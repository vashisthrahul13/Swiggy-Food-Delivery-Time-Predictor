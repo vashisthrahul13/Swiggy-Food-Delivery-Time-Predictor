{
 "cells": [
  {
   "cell_type": "code",
   "execution_count": 45,
   "id": "7dbae584",
   "metadata": {},
   "outputs": [],
   "source": [
    "import pandas as pd\n",
    "import numpy as np\n",
    "import matplotlib.pyplot as plt\n",
    "from matplotlib.gridspec import GridSpec\n",
    "import seaborn as sns"
   ]
  },
  {
   "cell_type": "code",
   "execution_count": 8,
   "id": "a05c3616",
   "metadata": {},
   "outputs": [],
   "source": [
    "pd.set_option('display.max_column',None)"
   ]
  },
  {
   "cell_type": "code",
   "execution_count": 9,
   "id": "0fe7670e",
   "metadata": {},
   "outputs": [],
   "source": [
    "original_df = pd.read_csv('../Dataset/02_cleaned_data.csv')"
   ]
  },
  {
   "cell_type": "code",
   "execution_count": 10,
   "id": "dd1fe657",
   "metadata": {},
   "outputs": [],
   "source": [
    "df = original_df.copy()"
   ]
  },
  {
   "cell_type": "code",
   "execution_count": 11,
   "id": "b91d77eb",
   "metadata": {},
   "outputs": [
    {
     "name": "stdout",
     "output_type": "stream",
     "text": [
      "<class 'pandas.core.frame.DataFrame'>\n",
      "RangeIndex: 45502 entries, 0 to 45501\n",
      "Data columns (total 26 columns):\n",
      " #   Column                Non-Null Count  Dtype  \n",
      "---  ------                --------------  -----  \n",
      " 0   rider_id              45502 non-null  object \n",
      " 1   age                   43648 non-null  float64\n",
      " 2   ratings               43594 non-null  float64\n",
      " 3   restaurant_latitude   41872 non-null  float64\n",
      " 4   restaurant_longitude  41872 non-null  float64\n",
      " 5   delivery_latitude     41872 non-null  float64\n",
      " 6   delivery_longitude    41872 non-null  float64\n",
      " 7   order_date            45502 non-null  object \n",
      " 8   weather               44977 non-null  object \n",
      " 9   traffic               44992 non-null  object \n",
      " 10  vehicle_condition     45502 non-null  int64  \n",
      " 11  type_of_order         45502 non-null  object \n",
      " 12  type_of_vehicle       45502 non-null  object \n",
      " 13  multiple_deliveries   44509 non-null  float64\n",
      " 14  festival              45274 non-null  object \n",
      " 15  city_type             44304 non-null  object \n",
      " 16  time_taken            45502 non-null  int64  \n",
      " 17  city_name             45502 non-null  object \n",
      " 18  order_day             45502 non-null  int64  \n",
      " 19  order_month           45502 non-null  int64  \n",
      " 20  order_day_of_week     45502 non-null  object \n",
      " 21  is_weekend            45502 non-null  int64  \n",
      " 22  pickup_time_minutes   43862 non-null  float64\n",
      " 23  order_time_hour       43862 non-null  float64\n",
      " 24  order_time_of_day     45502 non-null  object \n",
      " 25  distance              41872 non-null  float64\n",
      "dtypes: float64(10), int64(5), object(11)\n",
      "memory usage: 9.0+ MB\n"
     ]
    }
   ],
   "source": [
    "df.info()"
   ]
  },
  {
   "cell_type": "markdown",
   "id": "39e09881",
   "metadata": {},
   "source": [
    "## Preliminary Analysis"
   ]
  },
  {
   "cell_type": "code",
   "execution_count": 12,
   "id": "912ef6ec",
   "metadata": {},
   "outputs": [
    {
     "data": {
      "text/plain": [
       "rider_id                   0\n",
       "age                     1854\n",
       "ratings                 1908\n",
       "restaurant_latitude     3630\n",
       "restaurant_longitude    3630\n",
       "delivery_latitude       3630\n",
       "delivery_longitude      3630\n",
       "order_date                 0\n",
       "weather                  525\n",
       "traffic                  510\n",
       "vehicle_condition          0\n",
       "type_of_order              0\n",
       "type_of_vehicle            0\n",
       "multiple_deliveries      993\n",
       "festival                 228\n",
       "city_type               1198\n",
       "time_taken                 0\n",
       "city_name                  0\n",
       "order_day                  0\n",
       "order_month                0\n",
       "order_day_of_week          0\n",
       "is_weekend                 0\n",
       "pickup_time_minutes     1640\n",
       "order_time_hour         1640\n",
       "order_time_of_day          0\n",
       "distance                3630\n",
       "dtype: int64"
      ]
     },
     "execution_count": 12,
     "metadata": {},
     "output_type": "execute_result"
    }
   ],
   "source": [
    "df.isna().sum()"
   ]
  },
  {
   "cell_type": "code",
   "execution_count": 14,
   "id": "c3cbb9ab",
   "metadata": {},
   "outputs": [
    {
     "data": {
      "text/plain": [
       "7438"
      ]
     },
     "execution_count": 14,
     "metadata": {},
     "output_type": "execute_result"
    }
   ],
   "source": [
    "#total num of rows with missing values\n",
    "df.isna().any(axis=1).sum()"
   ]
  },
  {
   "cell_type": "code",
   "execution_count": 20,
   "id": "93d28c47",
   "metadata": {},
   "outputs": [
    {
     "name": "stdout",
     "output_type": "stream",
     "text": [
      "<class 'pandas.core.frame.DataFrame'>\n",
      "RangeIndex: 45502 entries, 0 to 45501\n",
      "Data columns (total 26 columns):\n",
      " #   Column                Non-Null Count  Dtype  \n",
      "---  ------                --------------  -----  \n",
      " 0   rider_id              45502 non-null  object \n",
      " 1   age                   43648 non-null  float64\n",
      " 2   ratings               43594 non-null  float64\n",
      " 3   restaurant_latitude   41872 non-null  float64\n",
      " 4   restaurant_longitude  41872 non-null  float64\n",
      " 5   delivery_latitude     41872 non-null  float64\n",
      " 6   delivery_longitude    41872 non-null  float64\n",
      " 7   order_date            45502 non-null  object \n",
      " 8   weather               44977 non-null  object \n",
      " 9   traffic               44992 non-null  object \n",
      " 10  vehicle_condition     45502 non-null  int64  \n",
      " 11  type_of_order         45502 non-null  object \n",
      " 12  type_of_vehicle       45502 non-null  object \n",
      " 13  multiple_deliveries   44509 non-null  float64\n",
      " 14  festival              45274 non-null  object \n",
      " 15  city_type             44304 non-null  object \n",
      " 16  time_taken            45502 non-null  int64  \n",
      " 17  city_name             45502 non-null  object \n",
      " 18  order_day             45502 non-null  int64  \n",
      " 19  order_month           45502 non-null  int64  \n",
      " 20  order_day_of_week     45502 non-null  object \n",
      " 21  is_weekend            45502 non-null  int64  \n",
      " 22  pickup_time_minutes   43862 non-null  float64\n",
      " 23  order_time_hour       43862 non-null  float64\n",
      " 24  order_time_of_day     45502 non-null  object \n",
      " 25  distance              41872 non-null  float64\n",
      "dtypes: float64(10), int64(5), object(11)\n",
      "memory usage: 9.0+ MB\n"
     ]
    }
   ],
   "source": [
    "df.info()"
   ]
  },
  {
   "cell_type": "code",
   "execution_count": 19,
   "id": "00392da6",
   "metadata": {},
   "outputs": [
    {
     "data": {
      "text/plain": [
       "Index(['rider_id', 'age', 'ratings', 'restaurant_latitude',\n",
       "       'restaurant_longitude', 'delivery_latitude', 'delivery_longitude',\n",
       "       'order_date', 'weather', 'traffic', 'vehicle_condition',\n",
       "       'type_of_order', 'type_of_vehicle', 'multiple_deliveries', 'festival',\n",
       "       'city_type', 'time_taken', 'city_name', 'order_day', 'order_month',\n",
       "       'order_day_of_week', 'is_weekend', 'pickup_time_minutes',\n",
       "       'order_time_hour', 'order_time_of_day', 'distance'],\n",
       "      dtype='object')"
      ]
     },
     "execution_count": 19,
     "metadata": {},
     "output_type": "execute_result"
    }
   ],
   "source": [
    "df.columns"
   ]
  },
  {
   "cell_type": "code",
   "execution_count": 30,
   "id": "877f4963",
   "metadata": {},
   "outputs": [],
   "source": [
    "#check duplicate\n",
    "num_cols = ['age','ratings','restaurant_latitude','restaurant_longitude','delivery_latitude','delivery_longitude','time_taken','pickup_time_minutes','distance']\n",
    "cat_cols = [col for col in df.columns if col not in num_cols]"
   ]
  },
  {
   "cell_type": "code",
   "execution_count": 31,
   "id": "7e188c94",
   "metadata": {},
   "outputs": [
    {
     "data": {
      "text/plain": [
       "['rider_id',\n",
       " 'order_date',\n",
       " 'weather',\n",
       " 'traffic',\n",
       " 'vehicle_condition',\n",
       " 'type_of_order',\n",
       " 'type_of_vehicle',\n",
       " 'multiple_deliveries',\n",
       " 'festival',\n",
       " 'city_type',\n",
       " 'city_name',\n",
       " 'order_day',\n",
       " 'order_month',\n",
       " 'order_day_of_week',\n",
       " 'is_weekend',\n",
       " 'order_time_hour',\n",
       " 'order_time_of_day']"
      ]
     },
     "execution_count": 31,
     "metadata": {},
     "output_type": "execute_result"
    }
   ],
   "source": [
    "cat_cols"
   ]
  },
  {
   "cell_type": "code",
   "execution_count": 32,
   "id": "cf9fbb53",
   "metadata": {},
   "outputs": [
    {
     "data": {
      "text/plain": [
       "(9, 17)"
      ]
     },
     "execution_count": 32,
     "metadata": {},
     "output_type": "execute_result"
    }
   ],
   "source": [
    "len(num_cols) , len(cat_cols)"
   ]
  },
  {
   "cell_type": "code",
   "execution_count": 35,
   "id": "39c8989b",
   "metadata": {},
   "outputs": [
    {
     "data": {
      "text/html": [
       "<div>\n",
       "<style scoped>\n",
       "    .dataframe tbody tr th:only-of-type {\n",
       "        vertical-align: middle;\n",
       "    }\n",
       "\n",
       "    .dataframe tbody tr th {\n",
       "        vertical-align: top;\n",
       "    }\n",
       "\n",
       "    .dataframe thead th {\n",
       "        text-align: right;\n",
       "    }\n",
       "</style>\n",
       "<table border=\"1\" class=\"dataframe\">\n",
       "  <thead>\n",
       "    <tr style=\"text-align: right;\">\n",
       "      <th></th>\n",
       "      <th>count</th>\n",
       "      <th>unique</th>\n",
       "      <th>top</th>\n",
       "      <th>freq</th>\n",
       "    </tr>\n",
       "  </thead>\n",
       "  <tbody>\n",
       "    <tr>\n",
       "      <th>rider_id</th>\n",
       "      <td>45502</td>\n",
       "      <td>1320</td>\n",
       "      <td>PUNERES01DEL01</td>\n",
       "      <td>67</td>\n",
       "    </tr>\n",
       "    <tr>\n",
       "      <th>order_date</th>\n",
       "      <td>45502</td>\n",
       "      <td>44</td>\n",
       "      <td>2022-03-15</td>\n",
       "      <td>1190</td>\n",
       "    </tr>\n",
       "    <tr>\n",
       "      <th>weather</th>\n",
       "      <td>44977</td>\n",
       "      <td>6</td>\n",
       "      <td>Fog</td>\n",
       "      <td>7654</td>\n",
       "    </tr>\n",
       "    <tr>\n",
       "      <th>traffic</th>\n",
       "      <td>44992</td>\n",
       "      <td>4</td>\n",
       "      <td>low</td>\n",
       "      <td>15477</td>\n",
       "    </tr>\n",
       "    <tr>\n",
       "      <th>vehicle_condition</th>\n",
       "      <td>45502</td>\n",
       "      <td>4</td>\n",
       "      <td>2</td>\n",
       "      <td>15034</td>\n",
       "    </tr>\n",
       "    <tr>\n",
       "      <th>type_of_order</th>\n",
       "      <td>45502</td>\n",
       "      <td>4</td>\n",
       "      <td>snack</td>\n",
       "      <td>11512</td>\n",
       "    </tr>\n",
       "    <tr>\n",
       "      <th>type_of_vehicle</th>\n",
       "      <td>45502</td>\n",
       "      <td>4</td>\n",
       "      <td>motorcycle</td>\n",
       "      <td>26427</td>\n",
       "    </tr>\n",
       "    <tr>\n",
       "      <th>multiple_deliveries</th>\n",
       "      <td>44509.0</td>\n",
       "      <td>4.0</td>\n",
       "      <td>1.0</td>\n",
       "      <td>28109.0</td>\n",
       "    </tr>\n",
       "    <tr>\n",
       "      <th>festival</th>\n",
       "      <td>45274</td>\n",
       "      <td>2</td>\n",
       "      <td>no</td>\n",
       "      <td>44380</td>\n",
       "    </tr>\n",
       "    <tr>\n",
       "      <th>city_type</th>\n",
       "      <td>44304</td>\n",
       "      <td>3</td>\n",
       "      <td>metropolitian</td>\n",
       "      <td>34029</td>\n",
       "    </tr>\n",
       "    <tr>\n",
       "      <th>city_name</th>\n",
       "      <td>45502</td>\n",
       "      <td>22</td>\n",
       "      <td>JAP</td>\n",
       "      <td>3439</td>\n",
       "    </tr>\n",
       "    <tr>\n",
       "      <th>order_day</th>\n",
       "      <td>45502</td>\n",
       "      <td>30</td>\n",
       "      <td>3</td>\n",
       "      <td>2323</td>\n",
       "    </tr>\n",
       "    <tr>\n",
       "      <th>order_month</th>\n",
       "      <td>45502</td>\n",
       "      <td>3</td>\n",
       "      <td>3</td>\n",
       "      <td>31919</td>\n",
       "    </tr>\n",
       "    <tr>\n",
       "      <th>order_day_of_week</th>\n",
       "      <td>45502</td>\n",
       "      <td>7</td>\n",
       "      <td>Wednesday</td>\n",
       "      <td>7077</td>\n",
       "    </tr>\n",
       "    <tr>\n",
       "      <th>is_weekend</th>\n",
       "      <td>45502</td>\n",
       "      <td>2</td>\n",
       "      <td>0</td>\n",
       "      <td>32995</td>\n",
       "    </tr>\n",
       "    <tr>\n",
       "      <th>order_time_hour</th>\n",
       "      <td>43862.0</td>\n",
       "      <td>17.0</td>\n",
       "      <td>21.0</td>\n",
       "      <td>4686.0</td>\n",
       "    </tr>\n",
       "    <tr>\n",
       "      <th>order_time_of_day</th>\n",
       "      <td>45502</td>\n",
       "      <td>5</td>\n",
       "      <td>night</td>\n",
       "      <td>18312</td>\n",
       "    </tr>\n",
       "  </tbody>\n",
       "</table>\n",
       "</div>"
      ],
      "text/plain": [
       "                       count unique              top     freq\n",
       "rider_id               45502   1320  PUNERES01DEL01        67\n",
       "order_date             45502     44       2022-03-15     1190\n",
       "weather                44977      6              Fog     7654\n",
       "traffic                44992      4              low    15477\n",
       "vehicle_condition      45502      4                2    15034\n",
       "type_of_order          45502      4            snack    11512\n",
       "type_of_vehicle        45502      4       motorcycle    26427\n",
       "multiple_deliveries  44509.0    4.0              1.0  28109.0\n",
       "festival               45274      2               no    44380\n",
       "city_type              44304      3    metropolitian    34029\n",
       "city_name              45502     22              JAP     3439\n",
       "order_day              45502     30                3     2323\n",
       "order_month            45502      3                3    31919\n",
       "order_day_of_week      45502      7        Wednesday     7077\n",
       "is_weekend             45502      2                0    32995\n",
       "order_time_hour      43862.0   17.0             21.0   4686.0\n",
       "order_time_of_day      45502      5            night    18312"
      ]
     },
     "execution_count": 35,
     "metadata": {},
     "output_type": "execute_result"
    }
   ],
   "source": [
    "df.assign(**{\n",
    "    col: df[col].astype('object') for col in cat_cols\n",
    "}).describe(include='object').T"
   ]
  },
  {
   "cell_type": "markdown",
   "id": "c354ef43",
   "metadata": {},
   "source": [
    "## Functions to perform analysis"
   ]
  },
  {
   "cell_type": "markdown",
   "id": "01dee273",
   "metadata": {},
   "source": [
    "### Numerical Analysis"
   ]
  },
  {
   "cell_type": "code",
   "execution_count": 48,
   "id": "c9d08988",
   "metadata": {},
   "outputs": [
    {
     "name": "stderr",
     "output_type": "stream",
     "text": [
      "/var/folders/s_/8psmrzpd1ljgqhthwdx4fv000000gn/T/ipykernel_8858/1564148069.py:14: UserWarning: FigureCanvasAgg is non-interactive, and thus cannot be shown\n",
      "  fig.show()\n"
     ]
    },
    {
     "data": {
      "image/png": "[encoded data removed]",
      "text/plain": [
       "<Figure size 1500x1000 with 3 Axes>"
      ]
     },
     "metadata": {},
     "output_type": "display_data"
    }
   ],
   "source": [
    "def numerical_analysis(dataframe,column_name,cat_col=None,bins ='auto'):\n",
    "\tfig = plt.figure(figsize=(15,10))\n",
    "\tgrid = GridSpec(nrows=2,ncols=2,figure=fig)\n",
    "   \n",
    "\taxis1 = fig.add_subplot(grid[0,0])\n",
    "\taxis2 = fig.add_subplot(grid[0,1])\n",
    "\taxis3= fig.add_subplot(grid[1,:])\n",
    "\t\n",
    "\tsns.kdeplot(data= dataframe,x=column_name,hue=cat_col , ax=axis1)\n",
    "\tsns.boxplot(data=dataframe,x=column_name,hue=cat_col,ax = axis2)\n",
    "\tsns.histplot\n",
    "\tsns.histplot(data=dataframe,x=column_name,hue=cat_col,bins=bins,kde=True,ax=axis3)\n",
    "\tplt.tight_layout()\n",
    "\tfig.show()\n",
    "\n",
    "numerical_analysis(df,'age')"
   ]
  },
  {
   "cell_type": "markdown",
   "id": "f468223a",
   "metadata": {},
   "source": [
    "### numerical categorical analysis"
   ]
  },
  {
   "cell_type": "code",
   "execution_count": 57,
   "id": "dc0564b3",
   "metadata": {},
   "outputs": [],
   "source": [
    "def numerical_categorical_analysis(dataframe,num_col,cat_col):\n",
    "\tfig,axis = plt.subplots(nrows=2,ncols=2,figsize = (15,10))\n",
    "\t\n",
    "\tsns.barplot(data= dataframe,x=cat_col,y=num_col,ax=axis[0][0])\n",
    "\taxis[0][0].set_title(f'{cat_col} vs {num_col} barplot')\n",
    "\t# axis[0][0].tick_params(axis = 'x',rotation = 45)\n",
    "\t\n",
    "\tsns.boxplot(data=dataframe,x=cat_col,y=num_col,ax=axis[0][1])\n",
    "\taxis[0][1].set_title(f'{cat_col} vs {num_col} boxplot')\n",
    "\n",
    "\tsns.violinplot(data=dataframe,x=cat_col,y=num_col,ax=axis[1][0])\n",
    "\taxis[1][0].set_title(f'{cat_col} vs {num_col} violinplot')\n",
    "\n",
    "\tsns.stripplot(data=dataframe,x=cat_col,y=num_col,ax=axis[1][1])\n",
    "\taxis[1][1].set_title(f'{cat_col} vs {num_col} stripplot')\n",
    "\tplt.tight_layout()\n",
    "\tfig.show()"
   ]
  },
  {
   "cell_type": "markdown",
   "id": "db70158f",
   "metadata": {},
   "source": [
    "### Categorical analysis"
   ]
  },
  {
   "cell_type": "code",
   "execution_count": 63,
   "id": "2d6994f0",
   "metadata": {},
   "outputs": [
    {
     "data": {
      "text/html": [
       "<div>\n",
       "<style scoped>\n",
       "    .dataframe tbody tr th:only-of-type {\n",
       "        vertical-align: middle;\n",
       "    }\n",
       "\n",
       "    .dataframe tbody tr th {\n",
       "        vertical-align: top;\n",
       "    }\n",
       "\n",
       "    .dataframe thead th {\n",
       "        text-align: right;\n",
       "    }\n",
       "</style>\n",
       "<table border=\"1\" class=\"dataframe\">\n",
       "  <thead>\n",
       "    <tr style=\"text-align: right;\">\n",
       "      <th></th>\n",
       "      <th>Count</th>\n",
       "      <th>Percentage</th>\n",
       "    </tr>\n",
       "    <tr>\n",
       "      <th>weather</th>\n",
       "      <th></th>\n",
       "      <th></th>\n",
       "    </tr>\n",
       "  </thead>\n",
       "  <tbody>\n",
       "    <tr>\n",
       "      <th>Fog</th>\n",
       "      <td>7654</td>\n",
       "      <td>17.02%</td>\n",
       "    </tr>\n",
       "    <tr>\n",
       "      <th>Stormy</th>\n",
       "      <td>7586</td>\n",
       "      <td>16.87%</td>\n",
       "    </tr>\n",
       "    <tr>\n",
       "      <th>Cloudy</th>\n",
       "      <td>7536</td>\n",
       "      <td>16.76%</td>\n",
       "    </tr>\n",
       "    <tr>\n",
       "      <th>Sandstorms</th>\n",
       "      <td>7495</td>\n",
       "      <td>16.66%</td>\n",
       "    </tr>\n",
       "    <tr>\n",
       "      <th>Windy</th>\n",
       "      <td>7422</td>\n",
       "      <td>16.5%</td>\n",
       "    </tr>\n",
       "    <tr>\n",
       "      <th>Sunny</th>\n",
       "      <td>7284</td>\n",
       "      <td>16.19%</td>\n",
       "    </tr>\n",
       "  </tbody>\n",
       "</table>\n",
       "</div>"
      ],
      "text/plain": [
       "            Count Percentage\n",
       "weather                     \n",
       "Fog          7654     17.02%\n",
       "Stormy       7586     16.87%\n",
       "Cloudy       7536     16.76%\n",
       "Sandstorms   7495     16.66%\n",
       "Windy        7422      16.5%\n",
       "Sunny        7284     16.19%"
      ]
     },
     "metadata": {},
     "output_type": "display_data"
    },
    {
     "name": "stdout",
     "output_type": "stream",
     "text": [
      "num of unique categories = 6\n",
      "unique categories = ['Sunny' 'Stormy' 'Sandstorms' 'Cloudy' 'Fog' 'Windy' nan]\n"
     ]
    },
    {
     "data": {
      "image/png": "[encoded data removed]",
      "text/plain": [
       "<Figure size 640x480 with 1 Axes>"
      ]
     },
     "metadata": {},
     "output_type": "display_data"
    }
   ],
   "source": [
    "def categorical_analysis(dataframe,cat_col):\n",
    " display(\n",
    "  pd.DataFrame({\n",
    "\t\t\t\t\t\"Count\":dataframe[cat_col].value_counts(),\n",
    "\t\t\t\t\t\"Percentage\":dataframe[cat_col].value_counts(normalize=True).mul(100).round(2).astype('str').add('%')\n",
    "     })\n",
    "     )\n",
    " print(f'num of unique categories = {dataframe[cat_col].nunique()}')\n",
    " print(f'unique categories = {dataframe[cat_col].unique()}')\n",
    " sns.countplot(data=dataframe,x=cat_col)\n",
    " plt.xticks(rotation = 45)\n",
    " plt.show()\n",
    "\n",
    "categorical_analysis(df,'weather')"
   ]
  }
 ],
 "metadata": {
  "kernelspec": {
   "display_name": "Python 3",
   "language": "python",
   "name": "python3"
  },
  "language_info": {
   "codemirror_mode": {
    "name": "ipython",
    "version": 3
   },
   "file_extension": ".py",
   "mimetype": "text/x-python",
   "name": "python",
   "nbconvert_exporter": "python",
   "pygments_lexer": "ipython3",
   "version": "3.12.5"
  }
 },
 "nbformat": 4,
 "nbformat_minor": 5
}
